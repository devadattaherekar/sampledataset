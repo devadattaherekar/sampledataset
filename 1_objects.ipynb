{
 "cells": [
  {
   "cell_type": "code",
   "execution_count": null,
   "id": "a16f0930-3a01-4b59-9274-ed335985740b",
   "metadata": {},
   "outputs": [],
   "source": [
    "print(\"Hello world\")"
   ]
  },
  {
   "cell_type": "code",
   "execution_count": null,
   "id": "1bf8cbd4-7d53-4266-822d-b345dbd79d2e",
   "metadata": {},
   "outputs": [],
   "source": [
    "#Here var is reference and 1000 is object of int class\n",
    "#int/float/str/bool/complex/None/tuple immutable objects\n",
    "#list/dict/set mutable objects!\n",
    "var=1000\n",
    "print(var,id(var),type(var))\n",
    "var=2000\n",
    "print(var,id(var),type(var))\n",
    "var+=1\n",
    "print(var,id(var),type(var))\n",
    "#del var\n",
    "print(var,id(var),type(var))\n",
    "var=3.142\n",
    "print(var,id(var),type(var))\n",
    "newvar=var #shallow copy \n",
    "print(var,id(var),type(var))\n",
    "print(newvar,id(newvar),type(newvar))\n",
    "var='V'\n",
    "print(var,id(var),type(var))\n",
    "var=True\n",
    "print(var,id(var),type(var))\n",
    "var=None\n",
    "print(var,id(var),type(var))\n",
    "print(type(id),type(type))"
   ]
  },
  {
   "cell_type": "code",
   "execution_count": null,
   "id": "fc6b18dc-44a4-40ff-8d65-f5d987e977bf",
   "metadata": {},
   "outputs": [],
   "source": [
    "player=\"sachin\"\n",
    "runs=100\n",
    "average=80.56\n",
    "\n",
    "# cstyle of formatting\n",
    "print(\"Player is %10s\\nRuns is %10d\\nAverage is %12f\\n\"%(player,runs,average))\n",
    "\n",
    "# str.format() till python 3.5\n",
    "print(\"Player is {0} {0}\\nRuns is {1}\\nAverage is {2}\\n\".format(player,runs,average))\n",
    "\n",
    "# f-strings after python 3.6\n",
    "print(f\"Player is {player}\\nRuns is {runs}\\nAverage is {average}\\n\")"
   ]
  },
  {
   "cell_type": "code",
   "execution_count": null,
   "id": "560f7c21-5b42-4b31-8d78-77a43219822d",
   "metadata": {},
   "outputs": [],
   "source": [
    "var=10\n",
    "print(type(var))\n",
    "var=10, #pythonic style comma creates a tuple\n",
    "print(type(var))\n",
    "var=10,20 #pythonic style comma creates a tuple\n",
    "print(type(var))\n",
    "var=(10,20) #pythonic style comma creates a tuple\n",
    "print(type(var))"
   ]
  },
  {
   "cell_type": "code",
   "execution_count": 10,
   "id": "8a3f300f-6111-401d-a054-2e92b8314968",
   "metadata": {},
   "outputs": [
    {
     "name": "stdin",
     "output_type": "stream",
     "text": [
      "Enter first value 3.4\n"
     ]
    },
    {
     "ename": "ValueError",
     "evalue": "invalid literal for int() with base 10: '3.4'",
     "output_type": "error",
     "traceback": [
      "\u001b[1;31m---------------------------------------------------------------------------\u001b[0m",
      "\u001b[1;31mValueError\u001b[0m                                Traceback (most recent call last)",
      "Cell \u001b[1;32mIn[10], line 1\u001b[0m\n\u001b[1;32m----> 1\u001b[0m var1\u001b[38;5;241m=\u001b[39m\u001b[38;5;28mint\u001b[39m(\u001b[38;5;28minput\u001b[39m(\u001b[38;5;124m\"\u001b[39m\u001b[38;5;124mEnter first value\u001b[39m\u001b[38;5;124m\"\u001b[39m)) \u001b[38;5;66;03m# conversion functions\u001b[39;00m\n\u001b[0;32m      2\u001b[0m var2\u001b[38;5;241m=\u001b[39m\u001b[38;5;28mint\u001b[39m(\u001b[38;5;28minput\u001b[39m(\u001b[38;5;124m\"\u001b[39m\u001b[38;5;124mEnter second value\u001b[39m\u001b[38;5;124m\"\u001b[39m))\n\u001b[0;32m      3\u001b[0m var2\u001b[38;5;241m=\u001b[39mvar2\n",
      "\u001b[1;31mValueError\u001b[0m: invalid literal for int() with base 10: '3.4'"
     ]
    }
   ],
   "source": [
    "var1=int(input(\"Enter first value\")) # conversion functions\n",
    "var2=int(input(\"Enter second value\"))\n",
    "var2=var2\n",
    "print(f\"{var1} and {var2} addition is {var1+var2}\")"
   ]
  },
  {
   "cell_type": "code",
   "execution_count": 18,
   "id": "f0035602-8a5e-4a04-95bd-05923b641b29",
   "metadata": {},
   "outputs": [
    {
     "name": "stdin",
     "output_type": "stream",
     "text": [
      "Enter first value \"sachin\"\n"
     ]
    },
    {
     "ename": "ValueError",
     "evalue": "could not convert string to float: '\"sachin\"'",
     "output_type": "error",
     "traceback": [
      "\u001b[1;31m---------------------------------------------------------------------------\u001b[0m",
      "\u001b[1;31mValueError\u001b[0m                                Traceback (most recent call last)",
      "Cell \u001b[1;32mIn[18], line 2\u001b[0m\n\u001b[0;32m      1\u001b[0m \u001b[38;5;66;03m# int() float() str() bool() tuple() list() set() dict() None() complex()\u001b[39;00m\n\u001b[1;32m----> 2\u001b[0m var1\u001b[38;5;241m=\u001b[39m\u001b[38;5;28mfloat\u001b[39m(\u001b[38;5;28minput\u001b[39m(\u001b[38;5;124m\"\u001b[39m\u001b[38;5;124mEnter first value\u001b[39m\u001b[38;5;124m\"\u001b[39m)) \u001b[38;5;66;03m# conversion functions\u001b[39;00m\n\u001b[0;32m      3\u001b[0m var2\u001b[38;5;241m=\u001b[39m\u001b[38;5;28mfloat\u001b[39m(\u001b[38;5;28minput\u001b[39m(\u001b[38;5;124m\"\u001b[39m\u001b[38;5;124mEnter second value\u001b[39m\u001b[38;5;124m\"\u001b[39m))\n\u001b[0;32m      4\u001b[0m var2\u001b[38;5;241m=\u001b[39mvar2\n",
      "\u001b[1;31mValueError\u001b[0m: could not convert string to float: '\"sachin\"'"
     ]
    }
   ],
   "source": [
    "# int() float() str() bool() tuple() list() set() dict() None() complex()\n",
    "var1=float(input(\"Enter first value\")) # conversion functions\n",
    "var2=float(input(\"Enter second value\"))\n",
    "var2=var2\n",
    "print(f\"{var1} and {var2} addition is {var1+var2}\")"
   ]
  },
  {
   "cell_type": "code",
   "execution_count": 16,
   "id": "e8c4a534-6ec8-445d-bab9-831df59df932",
   "metadata": {},
   "outputs": [
    {
     "name": "stdout",
     "output_type": "stream",
     "text": [
      "<class 'str'>\n",
      "<class 'int'>\n"
     ]
    },
    {
     "ename": "ValueError",
     "evalue": "invalid literal for int() with base 10: '192.168'",
     "output_type": "error",
     "traceback": [
      "\u001b[1;31m---------------------------------------------------------------------------\u001b[0m",
      "\u001b[1;31mValueError\u001b[0m                                Traceback (most recent call last)",
      "Cell \u001b[1;32mIn[16], line 5\u001b[0m\n\u001b[0;32m      3\u001b[0m var\u001b[38;5;241m=\u001b[39m\u001b[38;5;28mint\u001b[39m(\u001b[38;5;124m\"\u001b[39m\u001b[38;5;124m10\u001b[39m\u001b[38;5;124m\"\u001b[39m)\n\u001b[0;32m      4\u001b[0m \u001b[38;5;28mprint\u001b[39m(\u001b[38;5;28mtype\u001b[39m(var))\n\u001b[1;32m----> 5\u001b[0m var\u001b[38;5;241m=\u001b[39m\u001b[38;5;28mint\u001b[39m(\u001b[38;5;124m\"\u001b[39m\u001b[38;5;124m192.168\u001b[39m\u001b[38;5;124m\"\u001b[39m)\n\u001b[0;32m      6\u001b[0m \u001b[38;5;28mprint\u001b[39m(\u001b[38;5;28mtype\u001b[39m(var))\n",
      "\u001b[1;31mValueError\u001b[0m: invalid literal for int() with base 10: '192.168'"
     ]
    }
   ],
   "source": [
    "var=\"10\"\n",
    "print(type(var))\n",
    "var=int(\"10\")\n",
    "print(type(var))\n",
    "var=int(\"192.168\")\n",
    "print(type(var))"
   ]
  },
  {
   "cell_type": "code",
   "execution_count": 21,
   "id": "95ddbcff-350f-4dd2-ade7-3e58b1b67a6c",
   "metadata": {},
   "outputs": [
    {
     "name": "stdin",
     "output_type": "stream",
     "text": [
      "Enter first value 4\n",
      "Enter second value \"sachin\"\n"
     ]
    },
    {
     "name": "stdout",
     "output_type": "stream",
     "text": [
      "4 and \"sachin\" addition is 4\"sachin\"\n"
     ]
    }
   ],
   "source": [
    "var1=str(input(\"Enter first value\")) # conversion functions\n",
    "var2=str(input(\"Enter second value\"))\n",
    "var2=var2\n",
    "print(f\"{var1} and {var2} addition is {var1+var2}\")"
   ]
  },
  {
   "cell_type": "code",
   "execution_count": 28,
   "id": "113d4a18-8056-4d3b-a77d-a965d85d314f",
   "metadata": {},
   "outputs": [
    {
     "name": "stdin",
     "output_type": "stream",
     "text": [
      "Enter first value \"sachin\"\n",
      "Enter second value 10\n"
     ]
    },
    {
     "name": "stdout",
     "output_type": "stream",
     "text": [
      "sachin and 10 addition is sachin10\n"
     ]
    }
   ],
   "source": [
    "var1=eval(input(\"Enter first value\")) # conversion functions\n",
    "var2=eval(input(\"Enter second value\"))\n",
    "print(f\"{var1} and {var2} addition is {var1+str(var2)}\")"
   ]
  },
  {
   "cell_type": "code",
   "execution_count": 37,
   "id": "a37e8b1e-28b3-48a2-8b31-8fb93c19ebae",
   "metadata": {},
   "outputs": [
    {
     "name": "stdout",
     "output_type": "stream",
     "text": [
      "can you \tprint 'single quotes' within \n",
      "single quotes\n",
      "can you \tprint \"double quotes\" within \n",
      "double quotes\n",
      "using triple quotes \n",
      "you can print 'single quotes'\n",
      "as well as \"double quotes\"\n",
      "      \n"
     ]
    }
   ],
   "source": [
    "# str\n",
    "print('can you \\tprint \\'single quotes\\' within \\nsingle quotes')\n",
    "print(\"can you \\tprint \\\"double quotes\\\" within \\ndouble quotes\")\n",
    "print(\"\"\"using triple quotes \n",
    "you can print 'single quotes'\n",
    "as well as \"double quotes\"\n",
    "      \"\"\")"
   ]
  },
  {
   "cell_type": "code",
   "execution_count": 55,
   "id": "da81b5ce-869b-4ec1-aa75-775551969efe",
   "metadata": {},
   "outputs": [
    {
     "name": "stdout",
     "output_type": "stream",
     "text": [
      "How to write beautiful code in python using PEP 8\n",
      "How to write beautiful code in python using PEP 8\n",
      "H\n",
      "How\n",
      "How to write beautiful code in python using PEP 8\n",
      "H  i ai\n",
      "8\n",
      "using PEP\n",
      "u nohtyp \n",
      "8 PEP gnisu nohtyp ni edoc lufituaeb etirw ot woH\n"
     ]
    }
   ],
   "source": [
    "guideline=\"How to write beautiful code in python using PEP 8\"\n",
    "print(guideline)\n",
    "print(guideline[:]) # start:next_to_last:step_count  # 0:next_to_last:1\n",
    "print(guideline[0])\n",
    "print(guideline[0:3]) # 3 is not included\n",
    "print(guideline[::])\n",
    "print(guideline[0:20:3])\n",
    "print(guideline[-1])\n",
    "print(guideline[-11:-2])\n",
    "print(guideline[-11:-20:-1])\n",
    "print(guideline[::-1])"
   ]
  },
  {
   "cell_type": "code",
   "execution_count": null,
   "id": "07aa5850-d9d4-4339-9290-2f70f095e047",
   "metadata": {},
   "outputs": [],
   "source": []
  }
 ],
 "metadata": {
  "kernelspec": {
   "display_name": "Python 3 (ipykernel)",
   "language": "python",
   "name": "python3"
  },
  "language_info": {
   "codemirror_mode": {
    "name": "ipython",
    "version": 3
   },
   "file_extension": ".py",
   "mimetype": "text/x-python",
   "name": "python",
   "nbconvert_exporter": "python",
   "pygments_lexer": "ipython3",
   "version": "3.11.5"
  }
 },
 "nbformat": 4,
 "nbformat_minor": 5
}
