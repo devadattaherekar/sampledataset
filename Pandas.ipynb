{
 "cells": [
  {
   "cell_type": "code",
   "execution_count": 2,
   "id": "8383aaea-0ca6-4cb2-a48d-3d6b6522425d",
   "metadata": {},
   "outputs": [],
   "source": [
    "import pandas as pd"
   ]
  },
  {
   "cell_type": "code",
   "execution_count": null,
   "id": "d56b25a9-4385-4d38-9eea-29f8153e1782",
   "metadata": {},
   "outputs": [],
   "source": [
    "print(pd.__version__)"
   ]
  },
  {
   "cell_type": "code",
   "execution_count": null,
   "id": "8d58a3f2-4aef-4952-b2aa-f1c903909ba2",
   "metadata": {},
   "outputs": [],
   "source": [
    "jersey=[10,45,18,99]\n",
    "print(type(jersey))\n",
    "print(pd.Series(jersey))\n",
    "print(type(pd.Series(jersey)))"
   ]
  },
  {
   "cell_type": "code",
   "execution_count": null,
   "id": "57dce0bd-5539-4e42-8b67-c23276224521",
   "metadata": {},
   "outputs": [],
   "source": [
    "jersey=10,45,18,99\n",
    "print(pd.Series(jersey))"
   ]
  },
  {
   "cell_type": "code",
   "execution_count": null,
   "id": "b8a998f2-1525-4d0e-a8b7-ac18ea1c29c4",
   "metadata": {},
   "outputs": [],
   "source": [
    "jersey={10,45,18,99}\n",
    "print(type(jersey))\n",
    "print(pd.Series(jersey)) #TypeError: 'set' type is unordered"
   ]
  },
  {
   "cell_type": "code",
   "execution_count": null,
   "id": "f01cb216-e850-4bc1-bb0d-3606ce898d81",
   "metadata": {},
   "outputs": [],
   "source": [
    "players=[\"virat\",\"rohit\",\"bumrah\",10,True,(4+5j),45.67]\n",
    "print(players)\n",
    "print(players[0])\n",
    "#for player in players:\n",
    "    #print(player)"
   ]
  },
  {
   "cell_type": "code",
   "execution_count": null,
   "id": "fa738f55-270b-401a-844a-a77140670d37",
   "metadata": {},
   "outputs": [],
   "source": [
    "var=(10+5j)\n",
    "print(type(var))"
   ]
  },
  {
   "cell_type": "code",
   "execution_count": null,
   "id": "f9213cb1-2f6c-4f99-ac8a-6f7f827ce92c",
   "metadata": {},
   "outputs": [],
   "source": [
    "dream11={\"sachin\":10,\"rohit\":45,\"Gayle\":333}\n",
    "print(dream11)\n",
    "print(dir(dream11))\n",
    "print(pd.Series(dream11))"
   ]
  },
  {
   "cell_type": "code",
   "execution_count": null,
   "id": "5c998239-35ba-42c4-8ee8-17bd65483041",
   "metadata": {},
   "outputs": [],
   "source": [
    "print(dir(set))"
   ]
  },
  {
   "cell_type": "code",
   "execution_count": null,
   "id": "d81b1e78-be94-42c3-b7e8-9bbe25b1d8a8",
   "metadata": {},
   "outputs": [],
   "source": [
    "sensex=[[\"hdfc\",100,4.5],(\"Accenture\",200,6.7)]\n",
    "print(sensex)\n",
    "print(sensex[0])\n",
    "print(sensex[-1][-1])\n",
    "\"\"\"\n",
    "for record in sensex:\n",
    "    #print(record)\n",
    "    print(record[0],record[1],record[2])\n",
    "for company,shares,price in sensex:\n",
    "    print(company,shares,price)\n",
    "\"\"\"\n",
    "#sensex[1][0]=\"IBM\"\n",
    "#sensex[1][0]=\"Axis\"\n",
    "del sensex[0][0]\n",
    "print(sensex)"
   ]
  },
  {
   "cell_type": "code",
   "execution_count": null,
   "id": "2a59c6ab-9bab-47ea-8c03-da25de7fafef",
   "metadata": {},
   "outputs": [],
   "source": [
    "print(dir(list))"
   ]
  },
  {
   "cell_type": "code",
   "execution_count": null,
   "id": "8d196f7a-24c7-47e2-9cbd-ab744a35be2e",
   "metadata": {},
   "outputs": [],
   "source": [
    "print(dir(tuple))"
   ]
  },
  {
   "cell_type": "code",
   "execution_count": null,
   "id": "30464e1f-1935-4d0d-9680-56d50847c3fc",
   "metadata": {},
   "outputs": [],
   "source": [
    "print(help(tuple))"
   ]
  },
  {
   "cell_type": "code",
   "execution_count": null,
   "id": "15e9b300-5b46-42d6-a8fa-7efa1ec79eff",
   "metadata": {},
   "outputs": [],
   "source": [
    "print(\"sachin\".__mul__(10))"
   ]
  },
  {
   "cell_type": "code",
   "execution_count": null,
   "id": "7e329cda-3fc2-44fd-8abc-85ea36df4ec8",
   "metadata": {},
   "outputs": [],
   "source": [
    "print(\"sachin\"*10)"
   ]
  },
  {
   "cell_type": "code",
   "execution_count": null,
   "id": "ecd32d6b-acaf-4405-8d57-184acaf480ed",
   "metadata": {},
   "outputs": [],
   "source": [
    "print(dir(str))"
   ]
  },
  {
   "cell_type": "code",
   "execution_count": null,
   "id": "1ef102dd-ee6f-42c8-bb53-c40efb76c904",
   "metadata": {},
   "outputs": [],
   "source": [
    "print(help(str.find))"
   ]
  },
  {
   "cell_type": "code",
   "execution_count": null,
   "id": "cae3b3a8-13cb-49ba-85c9-a320805e0e43",
   "metadata": {},
   "outputs": [],
   "source": [
    "# attributes\n",
    "days=[\"sun\",\"mon\",\"tue\",\"wed\"]\n",
    "d=pd.Series(days)\n",
    "print(d)\n",
    "print(d.dtype)\n",
    "print(d.index)\n",
    "print(d.values)\n",
    "d.name=\"Days of the week\"\n",
    "print(d)\n",
    "print(d.name)\n",
    "print(d.ndim)\n",
    "print(d.shape) # returns tuple with rows and cols\n",
    "print(d.is_unique)"
   ]
  },
  {
   "cell_type": "code",
   "execution_count": null,
   "id": "bef6f697-b89d-4bf2-aa1b-7ce852abca35",
   "metadata": {},
   "outputs": [],
   "source": [
    "#methods perform some operations they will modify state of the object\n",
    "prices=[99,88,100,67,77]\n",
    "s=pd.Series(prices)\n",
    "print(s)\n",
    "print(s.sum())\n",
    "print(s.mean())\n",
    "print(s.median())\n",
    "print(s.mode())\n",
    "print(s.min())\n",
    "print(s.max())\n",
    "print(s.describe())\n",
    "print(s.count()) # count does not count Nan\n",
    "print(len(s),s.__len__()) "
   ]
  },
  {
   "cell_type": "code",
   "execution_count": null,
   "id": "c76c23bf-38e7-4159-bac2-394752e34782",
   "metadata": {},
   "outputs": [],
   "source": [
    "players=[\"sachin\",\"sehwag\",\"dhoni\",\"ashwin\"]\n",
    "jersey=[10,99,7,100]\n",
    "#s=pd.Series(players,jersey)\n",
    "#print(s)\n",
    "#s=pd.Series(data=players,index=jersey)\n",
    "#print(s)\n",
    "s=pd.Series(players,index=jersey)\n",
    "print(s)\n",
    "s=pd.Series(index=players,data=jersey)\n",
    "print(s)"
   ]
  },
  {
   "cell_type": "code",
   "execution_count": 3,
   "id": "7275179f-05ea-4b13-a1ca-b1305d19f959",
   "metadata": {},
   "outputs": [
    {
     "name": "stdout",
     "output_type": "stream",
     "text": [
      "1    10\n",
      "1    20\n",
      "2    30\n",
      "2    40\n",
      "4    50\n",
      "dtype: int64\n"
     ]
    }
   ],
   "source": [
    "# advantage of series over dictionaries is that it can have duplicates!\n",
    "ps=pd.Series(data=[10,20,30,40,50],index=[1,1,2,2,4])\n",
    "print(ps)"
   ]
  },
  {
   "cell_type": "code",
   "execution_count": 31,
   "id": "73a044b0-4ebe-4dbb-a3ea-c652e0b90e42",
   "metadata": {},
   "outputs": [
    {
     "name": "stdout",
     "output_type": "stream",
     "text": [
      "105             Ante Brkic\n",
      "106        Ivan Cheparinov\n",
      "107      Laurent Fressinet\n",
      "108    Thai Dai Van Nguyen\n",
      "109         Gadir Guseinov\n",
      "110         Frederik Svane\n",
      "111         Mustafa Yilmaz\n",
      "112          Max Warmerdam\n",
      "Name: Player, dtype: object\n"
     ]
    }
   ],
   "source": [
    "csv_data=pd.read_csv(\"sample_datasets/top_chess_players.csv\",usecols=[1]) # usecols must have only 1 col\n",
    "csv_data=csv_data.squeeze() # use squeeze method to convert Dataframe to Series!\n",
    "#print(csv_data)\n",
    "#print(csv_data.head()) # default is 5 rows!\n",
    "#print(csv_data.tail(1)) \n",
    "first_113=csv_data.head(n=113)\n",
    "from_105_112=first_113.tail(8)\n",
    "print(from_105_112)"
   ]
  },
  {
   "cell_type": "code",
   "execution_count": 38,
   "id": "5ca46cbe-95af-41e1-af72-8f52c75cb602",
   "metadata": {},
   "outputs": [
    {
     "name": "stdout",
     "output_type": "stream",
     "text": [
      "Total no of records 1071\n",
      "['A Jonathan Mestel', 'A Koushik Girish', 'A Ra Harikrishnan', 'Aaditya Dhingra', 'Abdimalik Abdisalimov', 'Abdulla Gadimbayli', 'Abhijeet Gupta', 'Abhimanyu Mishra', 'Abhimanyu Puranik', 'Adam Kozak', 'Adam Tukhaev', 'Adham Fawzy', 'Adhiban Baskaran', 'Aditya Mittal', 'Adrien Demuth', 'Ahmad Ahmadzada', 'Ahmed Adly', 'Akshat Chandra', 'Alan Pichot', 'Albert Bokros', 'Alberto David', 'Alejandro Alvarado Diaz', 'Alejandro Moreno Trujillo', 'Alejandro Ramirez', 'Aleksa Strikovic', 'Aleksandar Indjic', 'Aleksandar Kovacevic', 'Aleksander Mista', 'Aleksandr Lenderman', 'Aleksandr Rakhmanov', 'Aleksandr Shimanov', 'Aleksandr Shneider', 'Aleksandr Volodin', 'Aleksandra Goryachkina', 'Aleksei Pridorozhni', 'Aleksey Dreev', 'Aleksey Goganov', 'Aleksey Grebnev', 'Aleksey Sorokin', 'Alessio Valsecchi', 'Alexander Areshchenko', 'Alexander Beliavsky', 'Alexander Berelovich', 'Alexander Donchenko', 'Alexander Graf', 'Alexander Grischuk', 'Alexander Huzman', 'Alexander Khalifman', 'Alexander Krastev', 'Alexander Moiseenko', 'Alexander Motylev', 'Alexander Naumann', 'Alexander Riazantsev', 'Alexander Shabalov', 'Alexander Stripunsky', 'Alexander Zabotin', 'Alexandr Fier', 'Alexandr Predke', 'Alexandra Kosteniuk', 'Alexei Fedorov', 'Alexei Shirov', 'Alexey Sarana', 'Aliaksei Charnushevich', 'Alija Muratovic', 'Alina Kashlinskaya', 'Alireza Firouzja', 'Alisher Suleymenov', 'Aljoscha Feuerstack', 'Allan Stig Rasmussen', 'Alojzije Jankovic', 'Alon Greenfeld', 'Alparslan Isik', 'Alvar Alonso Rosell', 'Ameet K Ghasi', 'Amin Tabatabaei', 'Amirreza Pour Agha Bala', 'Amirreza Pourramezanali', 'Andre Diamant', 'Andreas Heimann', 'Andreas Kelires', 'Andrei Macovei', 'Andrei Murariu', 'Andrei Shchekachev', 'Andrei Sokolov', 'Andrei Volokitin', 'Andres Carlos Obregon', 'Andrew Tang', 'Andrew Z Hong', 'Andrey Baryshpolets', 'Andrey Drygalov', 'Andrey Esipenko', 'Andrey Gorovets', 'Andrey Orlov', 'Andrey Rychagov', 'Andrey Sumets', 'Andy Woodward', 'Anish Giri', 'Anna Muzychuk', 'Ante Brkic', 'Ante Saric', 'Anthony He', 'Anthony Wirig', 'Anton Demchenko', 'Anton Korobov', 'Anton Shomoev', 'Anton Smirnov', 'Antonios Pavlidis', 'Aram Hakobyan', 'Aravindh Chithambaram', 'Ariel Erenberg', 'Arik Braun', 'Arjun Erigaisi', 'Arjun Kalyan', 'Arkadij Naiditsch', 'Arkadiusz Leniart', 'Arman Mikaelyan', 'Arman Pashikian', 'Arnaldo Fernandez De La Vara', 'Arnaud Hauchard', 'Aronyak Ghosh', 'Arsen Kukhmazov', 'Arseniy Nesterov', 'Artem Chernobay', 'Artem Iljin', 'Arthur Guo', 'Artur Davtyan', 'Artur Kogan', 'Arturs Neiksans', 'Artyom Timofeev', 'Artyom Zubritskiy', 'Aryan Chopra', 'Aryan Gholami', 'Aryan Tari', 'Arystanbek Urazayev', 'Asghar Golizadeh', 'Attila Vertetics', 'Augustin Droin', 'Avital Boruchovsky', 'Awonder Liang', 'Axel Bachmann', 'Axel Delorme', 'Axel Rombaldoni', 'Aydin Suleymanli', 'Baadur Jobava', 'Bai Jinshi', 'Balazs Csonka', 'Bardiya Daneshvar', 'Baris Esen', 'Bart Michiels', 'Bartlomiej Heberla', 'Bartlomiej Macieja', 'Bartosz Socko', 'Bassem Amin', 'Bator Sambuev', 'Bayarsaikhan Gundavaa', 'Bela Khotenashvili', 'Bence Korpa', 'Benjamin Arvola Notkevich', 'Benjamin Bok', 'Benjamin Gledura', 'Benoit Lepelletier', 'Bharath Subramaniyam', 'Bhattacharyya Soham', 'Bibisara Assaubayeva', 'Bilel Bellahcene', 'Bjorn Moller Ochsner', 'Boban Bogosavljevic', 'Bobby Cheng', 'Bogdan-Daniel Deac', 'Bojan Maksimovic', 'Bojan Vuckovic', 'Boris Chatalbashev', 'Boris Gelfand', 'Boris Grachev', 'Boris Khartchenko', 'Boris Markoja', 'Boris Savchenko', 'Borki Predojevic', 'Borya Ider', 'Brandon Jacobson', 'Brian Sebasti Escalante Ramirez', 'Bryce Tiglon', 'Bu Xiangzhi', 'Carles Diaz Camallonga', 'Carlos Daniel Albornoz Cabrera', 'Casper Schoppen', 'Cem Kaan Gokerkan', 'Cemil Can Ali Marandi', 'Chanda Sandipan', 'Chen Lin', 'Christian Bauer', 'Christopher Lutz', 'Christopher Noe', 'Christopher Repka', 'Christopher Repka', 'Christopher Yoo', 'Clovis Vernay', 'Constantin Lupulescu', 'Costica-Ciprian Nanu', 'Cristhian Cruz', 'Cristobal Henriquez Villagra', 'Csaba Balogh', 'Csaba Horvath', 'Cyril Ponizil', 'Daan Brandenburg', 'Dai Changren', 'Dalibor Stojanovic', 'Dambasuren Batsuren', 'Dan Zoler', 'Daniel Alsina Leal', 'Daniel Dardha', 'Daniel Forcen Esteban', 'Daniel Fridman', 'Daniel Gurevich', 'Daniel Hausrath', 'Daniel Howard Fernandez', 'Daniel Naroditsky', 'Daniel Pulvett Marin', 'Daniel Sadzikowski', 'Daniel Semcesen', 'Daniele Vocaturo', 'Daniil Dubov', 'Daniil Lintchevski', 'Daniil Yuffa', 'Danny Raznikov', 'Danyyil Dvirnyy', 'Dariusz Swiercz', 'Darko Doric', 'David Anton Guijarro', 'David Baramidze', 'David Brodsky', 'David C Smerdon', 'David Gavrilescu', 'David Gorodetzky', 'David Howell', 'David Klein', 'David Navara', 'David Paravyan', 'David Pardo Simon', 'Davorin Kuljasevic', 'Dawit Schengelia', 'Deep Sengupta', 'Deivy Vera Siguenas', 'Denis Kadric', 'Denis Khismatullin', 'Denis Lazavik', 'Denis Makhnyov', 'Dennis Kaczmarczyk', 'Dennis Wagner', 'Diego Macias Pino', 'Diego Rafael Di Berardino', 'Dimitri Komarov', 'Dimitri Reinderman', 'Dimitri Reinderman', 'Dimitrios Mastrovasilis', 'Dinara Wagner', 'Ding Liren', 'Diogo Fernando', 'Diptayan Ghosh', 'Djurabek Khamrakulov', 'Dmitri Maksimov', 'Dmitrij Kollars', 'Dmitriy Khegay', 'Dmitry Bocharov', 'Dmitry Frolyanov', 'Dmitry Gordievsky', 'Dmitry Kokarev', 'Dmitry Kryakvin', 'Dmitry Obolenskikh', 'Dmitry V Sklyarov', 'Dominik Horvath', 'Douglas Root', 'Dr Christian Seel', 'Dr Florian Handke', 'Dr Jan Michael Sprenger', 'Dragan Solak', 'Dusan Popovic', 'Dusko Pavasovic', 'Dylan Isidro Berdayes Ason', 'Ediz Gurel', 'Eduardas Rozentalis', 'Eduardo Iturrizaga Bonelli', 'Edvins Kengis', 'Ehsan Ghaem Maghami', 'Eldar Gasanov', 'Elham Amar', 'Elier Miranda Mesa', 'Elshan Moradiabadi', 'Eltaj Safarli', 'Emanuel Berg', 'Emil Mirzoev', 'Emil Sutovsky', 'Emilio Cordova', 'Emin Ohanyan', 'Eray Kilic', 'Eric Hansen', 'Eric Lobron', 'Erik Blomqvist', 'Erik van den Doel', 'Ermes Espinosa Veloz', 'Ernesto Fernandez Romero', 'Ernesto Inarkiev', \"Erwin l'Ami\", 'Etienne Bacrot', 'Eugene Perelshteyn', 'Evandro Amorim Barbosa', 'Evgenij Miroshnichenko', 'Evgeniy Najer', 'Evgeny Agrest', 'Evgeny Alekseev', 'Evgeny Bareev', 'Evgeny Postny', 'Evgeny Romanov', 'Evgeny Sveshnikov', 'Evgeny Tomashevsky', 'Evgeny Zanan', 'Eyal Grinberg', 'Fabiano Caruana', 'Fabien Libiszewski', 'Federico Perez Ponsa', 'Felipe De Cresce el Debs', 'Felix Blohberger', 'Ferdinand Hellers', 'Ferenc Berkes', 'Fernando Peralta', 'Fidel Corrales Jimenez', 'Filip Pancevski', 'Florian Kaczur', 'Francesco Sonis', 'Francisco Vallejo Pons', 'Frank Holzke', 'Frederik Svane', 'Friso Nijboer', 'Frode Olav Olsen Urkedal', 'Fy Antenaina Rakotomaharo', 'G A Stany', 'Gabor Kallai', 'Gabor Papp', 'Gabriel Sargissian', 'Gad Rechlis', 'Gadir Guseinov', 'Gamil Agamaliev', 'Gao Rui', 'Gata Kamsky', 'Gawain Jones', 'Geetha Narayanan Gopal', 'Geir Sune Tallaksen Ostmoe', 'Georg Froewis', 'Georg Meier', 'Gergely Aczel', 'Gergely Antal', 'Gergely Kantor', 'Gergely-Andras-Gyula Szabo', 'Giga Quparadze', 'Gilberto Hernandez Guerrero', 'Giovanni Vescovi', 'Gleb Dudin', 'Gregory Kaidanov', 'Grigor Grigorov', 'Grigoriy Oparin', 'Grzegorz Gajewski', 'Grzegorz Nasuta', 'Gudmundur Kjartansson', 'Guha Mitrabha', 'Guillaume Lamard', 'Guillermo Vazquez', 'Gukesh Dommaraju', 'Hagen Poetsch', 'Haik Martirosyan', 'Hampus Sorensen', 'Hannes Stefansson', 'Hans Moke Niemann', 'Hans Tikkanen', 'Haowen Xue', 'Harika Dronavalli', 'Harry Grieve', 'Harsha Bharathakoti', 'Hedinn Steingrimsson', 'Helgi Ass Gretarsson', 'Helgi Dam Ziska', 'Henrik Danielsen', 'Henrik Teske', 'Henry Soto Hernandez', 'Hichem Hamdouchi', 'Hikaru Nakamura', 'Himal Gusain', 'Hing Ting Lai', 'Hipolito Asis Gargatagli', 'Hjorvar Steinn Gretarsson', 'Holden Hernandez Carmenate', 'Hou Yifan', 'Hrant Melkumyan', 'Hristos Banikas', 'Hrvoje Stevic', 'Hugo Ten Hertog', 'Humpy Koneru', 'Ian Nepomniachtchi', 'Ibro Saric', 'Ido Gorshtein', 'Iegor Krivoborodov', 'Igor Janik', 'Igor Khenkin', 'Igor Lysyj', 'Igor Miladinovic', 'Igor Novikov', 'Igor Zuyev', 'Ihor Samunenkov', 'Ilia Iljiushenok', 'Ilja Schneider', 'Ilja Zaragatski', 'Illya Nyzhnyk', 'Ilya Smirin', 'Imre Balog', 'Imre Jr Hera', 'Ioan-Cristian Chirila', 'Ioannis Georgiadis', 'Ioannis Nikolaidis', 'Ioannis Papaioannou', 'Irakli Beradze', 'Isan Reynaldo Ortiz Suarez', 'Isik Can', 'Israel Caspi', 'Istvan Sipos', 'Ivan Cheparinov', 'Ivan Ivanisevic', 'Ivan Morovic Fernandez', 'Ivan Rozum', 'Ivan Salgado Lopez', 'Ivan Saric', 'Ivan Schitco', 'Ivan Sokolov', 'Ivan Yeletsky', 'Jaan Ehlvest', 'Jacek Gdanski', 'Jacek Tomczak', 'Jaime Alexander Cuartas', 'Jaime Santos Latasa', 'Jakhongir Vakhidov', 'Jakub Fus', 'James Morris', 'Jan Bernasek', 'Jan Gustafsson', 'Jan H Timman', 'Jan Klimkowski', 'Jan Krejci', 'Jan Smeets', 'Jan Subelj', 'Jan Votava', 'Jan Vykouk', 'Jan-Christian Schroeder', 'Jan-Krzysztof Duda', 'Jaroslav Prizant', 'Javokhir Sindarov', 'Jean-Marc Degraeve', 'Jean-Pierre Le Roux', 'Jeffery Xiong', 'Jergus Pechac', 'Jesper Sondergaard Thybo', 'Jiangchuan Ye', 'Jingyao Tin', 'Jiri Stocek', 'Joan Fluvia Poyatos', 'Joel Benjamin', 'Johan-Sebastian Christiansen', 'Johann Hjartarson', 'Johannes Haug', 'John M Burke', 'John Nunn', 'John Nunn', 'Jon Ludvig Hammer', 'Jon S Speelman', 'Jonas Buhl Bjerre', 'Jonas Lampert', 'Jonathan Rowson', 'Jonathan Westerberg', 'Jorden van Foreest', 'Jordi Magem Badals', 'Jorge Cori', 'Jorge Roberto Elias Reyes', 'Jorge Viterbo Ferreira', 'Joris Brenninkmeijer', 'Jose Angel Guerra Mendez', 'Jose Carlos Ibarra Jerez', 'Jose Eduardo Martinez Alcantara', 'Jose Fernando Cuenca Jimenez', 'Jose Gabriel Cardoso Cardoso', 'Jose Rafael Gascon Del Nogal', 'Josep Manuel Lopez Martinez', 'Joseph Girel', 'Josif Dorfman', 'Ju Wenjun', 'Juan Carlos Gonzalez Zamora', 'Juan Carlos Obregon Rivero', 'Juan Plazuelo Pascual', 'Jubin Jimmy', 'Julen Luis Arizmendi Martinez', 'Jules Moussard', 'Julian Kramer', 'Julio Catalino Sadorra', 'Julio E Granda Zuniga', 'Julio Suarez Gomez', 'Jung Min Seo', 'Juraj Druska', 'Jure Borisek', 'Jure Skoberne', 'Justin Tan', 'Justin Wang', 'Kaan Kucuksari', 'Kacper Piorun', 'Kaido Kulaots', 'Kamil Dragun', 'Karen H Grigoryan', 'Karthik Venkataraman', 'Karthikeyan Murali', 'Kateryna Lagno', 'Kazybek Nogerbek', 'Kevin Joel Cori Quispe', 'Kevin Spraggett', 'Khazar Babazada', 'Kiril Georgiev', 'Kirill Alekseenko', 'Kirill Shevchenko', 'Kjetil Aleksander Lie', 'Klementy Sychev', 'Konstantin Landa', 'Konstantin Sakaev', 'Konstantin Tarlev', 'Konstantine Shanava', 'Koustav Chatterjee', 'Krasimir Rusev', 'Krikor Sevag Mekhitarian', 'Krikor Sevag Mekhitarian', 'Krishnan Sasikiran', 'Kristian Stuvik Holm', 'Kristof Juhasz', 'Krzysztof Bulski', 'Krzysztof Jakubowski', 'Lance Henderson de La Fuente', 'Lars Oskar Hauge', 'Lars Schandorff', 'Laszlo Gonda', 'Laurent Fressinet', 'Laurent Guidarelli', 'Lazaro Bruzon Batista', 'Le Quang Liem', 'Leandro Krysa', 'Lei Tingjie', 'Leinier Dominguez Perez', 'Leon Livaic', 'Leon Luke Mendonca', 'Leon Luke Mendonca', 'Leon Mons', 'Leonardo Costa', 'Leonardo Tristan', 'Leonid M Sokolin', 'Levan Aroshidze', 'Levan Pantsulaia', 'Levon Aronian', 'Levon Aronian', 'Li Chao', 'Li Di', 'Li Min Peng', 'Liam Vrolijk', 'Liu Qingnan', 'Liviu-Dieter Nisipeanu', 'Loek van Wely', 'Loic Travadon', 'Lorenzo Lodici', 'Lu Shanglei', 'Luc Winants', 'Luca Moroni Jr', 'Lucian-Costin Miron', 'Luis Engel', 'Luis Ernesto Quesada Perez', 'Luis Galego', 'Luis Lazaro Aguero Jimenez', 'Luis Paulo Supi', 'Luka Budisavljevic', 'Luka Draskovic', 'Luka Lenic', 'Luka Paichadze', 'Lukasz Cyborowski', 'Luke McShane', 'M Pranesh', 'M R Babu Lalith', 'Ma Qun', 'Ma Zhonghan', 'Maciej Klekowski', 'Mackenzie Molner', 'Mads Andersen', 'Magesh Chandran Panchanathan', 'Magnus Carlsen', 'Mahammad Muradli', 'Mahdi Gholami Orimi', 'Maksim Chigaev', 'Maksim Vavulin', 'Mamikon Gharibyan', 'Manuel Apicella', 'Manuel Pena Gomez', 'Manuel Perez Candelario', 'Manuel Petrosyan', 'Marc Andria Maurizzi', 'Marcel Kanarek', 'Marcin Dziuba', 'Marcin Krzyzanowski', 'Marcin Krzyzanowski', 'Marcin Tazbir', 'Marco Baldauf', 'Marcos Camacho Collados', 'Marcus R Harvey', 'Mariano Ortega Amarelle', 'Marin Bosiocic', 'Mario Villanueva', 'Mariya Muzychuk', 'Marko Nenezic', 'Markus Ragger', 'Martijn Dambacher', 'Martin Kraemer', 'Martin Lokander', 'Martin Nayhebaver', 'Martin Petr', 'Martin Petrov', 'Masoud Mosadeghpour', 'Matej Sebenik', 'Mateusz Bartel', 'Matthias Bluebaum', 'Matthias Dann', 'Matthias Wahls', 'Matthieu Cornette', 'Max Warmerdam', 'Maxim Dlugy', 'Maxim Dlugy', 'Maxim Matlakov', 'Maxim Rodshtein', 'Maxim Turov', 'Maxime Lagarde', 'Maxime Vachier-Lagrave', 'Maximilian Berchtenbreiter', 'Maximilian Neef', 'Meilis Annaberdiev', 'Merab Gagunashvili', 'Meri Arabidze', 'Mert Yilmazyerli', 'Michael Adams', 'Michael Bezold', 'Michael Bezold', 'Michael Feygin', 'Michael Prusikin', 'Michael Roiz', 'Michal Krasenkow', 'Michel Alejandro Diaz Perez', 'Miguel Illescas Cordoba', 'Miguel Santos Ruiz', 'Miguoel Admiraal', 'Mihail Nikitenko', 'Mihajlo Radovanovic', 'Mihajlo Stojanovic', 'Mihnea Costachi', 'Mikael Agopov', 'Mikhail Al Antipov', 'Mikhail Bryakin', 'Mikhail Demidov', 'Mikhail Gurevich', 'Mikhail Kobalia', 'Mikhail Krylov', 'Mikhailo Oleksienko', 'Miloje Ratkovic', 'Milos Jirovsky', 'Milos Perunovic', 'Milos Roganovic', 'Milos Stankovic', 'Milosz Szpar', 'Mircea-Emilian Parligras', 'Mishra Swayams', 'Misratdin Iskandarov', 'Mladen Palac', 'Momchil Nikolov', 'Moulthun Ly', 'Mukhiddin Madaminov', 'Murtas Kazhgaleyev', 'Mustafa Yilmaz', 'Muthaiah AL', 'Namig Guliyev', 'Nana Dzagnidze', 'Narayanan Sunilduth Lyna', 'Nderim Saraci', 'Neuris Delgado Ramirez', 'Nguyen Ngoc Truong Son', 'Ni Hua', 'Nicholas Pert', 'Niclas Huschenbeth', 'Nico Georgiadis', 'Nicolas D Checa', 'Nidjat Mamedov', 'Nigel Short', 'Nihal Sarin', 'Nijat Abasov', 'Nikita Afanasiev', 'Nikita Maiorov', 'Nikita Meshkovs', 'Nikita Petrov', 'Nikita Vitiugov', 'Nikola Djukic', 'Nikola Nestorovic', 'Nikolaj Mikkelsen', 'Nikolas Lubbe', 'Nikolas Theodorou', 'Nikolaus Stanec', 'Nikolay Noritsyn', 'Nikoloz Petriashvili', 'Nils Grandelius', 'Nitzan Steinberg', 'Nodirbek Abdusattorov', 'Nodirbek Yakubboev', 'Novak Pezelj', 'Novendra Priasmoro', 'Oleg Korneev', 'Oleksandr Bortnyk', 'Oliver Barbosa', 'Oliver Mihok', 'Omar Almeida Quintana', 'Omer Reshef', 'Ori Kobo', 'Oskar Wieczorek', 'P Iniyan', 'Pablo Ismael Acosta', 'Pablo Salinas Herrera', 'Parham Maghsoodloo', 'Parimarjan Negi', 'Pascal Charbonneau', 'Patrick Wolff', 'Patrick Zelbel', 'Paul Velten', 'Paulius Pultinevicius', 'Pavel Eljanov', 'Pavel Ponkratov', 'Pavel Simacek', 'Pavel Smirnov', 'Pavel V Tregubov', 'Pavel Vorontsov', 'Pawel Czarnota', 'Pawel Jaracz', 'Pawel Teclaf', 'Pedro Antonio Gines Esteo', 'Pentala Harikrishna', 'Pere Garriga Cazorla', 'Peter Acs', 'Peter Leko', 'Peter Michalik', 'Peter Prohaszka', 'Peter Svidler', 'Philipp Schlosser', 'Pier Luigi Basso', 'Pierre Bailet', 'Pierre Laurent-Paoli', 'Pierre Petitcunot', 'Platon Galperin', 'Polina Shuvalova', 'Pouya Idani', 'Praggnanandhaa Rameshbabu', 'Pranav Anand', 'Praveen Balakrishnan', 'Predrag Nikolic', 'Prraneeth Vuppala', 'Qi Chen b', 'Radoslav Dimitrov', 'Radoslaw Gajek', 'Radoslaw Psyk', 'Radoslaw Wojtaszek', 'Rafael Vaganian', 'Rafal Antoniewski', 'Rainer Buhmann', 'Raja Harshit', 'Raja Panjwani', 'Rajat Makkar', 'Ramil Faizrakhmanov', 'Rasmus Svane', 'Rauf Mamedov', 'Raunak Sadhwani', 'Raven M Sturt', 'Ravi Haria', 'Ray Robson', 'Raymond Song', 'Razvan Preotu', 'Read Samadov', 'Read Samadov', 'Renato R Quintiliano Pinto', 'Renato Terry', 'Renier Castellanos Rodriguez', 'Renier Vazquez Igarza', 'Renjie Huang', 'Richard Forster', 'Richard Rapport', 'Rinat Jumabayev', 'Rishi Sardana', 'Robert Andrew Hungaski', 'Robert Baskin', 'Robert Fontaine', 'Robert Hovhannisyan', 'Robert Kempinski', 'Robert Markus', 'Robert Rabiega', 'Robert Ruck', 'Robert Zelcic', 'Roberto Garcia Pantoja', 'Robin Swinkels', 'Rodrigo Vasquez Schroeder', 'Roeland Pruijssers', 'Roi Reinaldo Castineira', 'Romain Edouard', 'Roman Bar', 'Roman Kezin', 'Roman Yanchenko', 'Roven Vogel', 'Roven Vogel', 'Ruben Felgaer', 'Ruben Gideon Koellner', 'Rudik Makarian', 'Ruslan Ponomariov', 'Rustam Kasimdzhanov', 'Rustem Dautov', 'S Dhopade Swapnil', 'S P Sethuraman', 'Sabino Brunello', 'Safal Bora', 'Sahaj Grover', 'Saleh Salem', 'Salvador Alonso', 'Sam A Schmakel', 'Sam E Collins', 'Sam Sevian', 'Samant Aditya S', 'Samir Sahidi', 'Samuel Shankland', 'Samuel-Timotei Ghimpu', 'Samvel Ter-Sahakyan', 'Samy Shoker', 'Sanan Sjugirov', 'Sandro Mareco', 'Sankalp Gupta', 'Santiago Avila Pavas', 'Saparmyrat Atabayev', 'Sarasadat Khademalsharieh', 'Sarunas Sulskis', 'Sasa Martinovic', 'Saveliy Golubov', 'Sebastian Bogner', 'Sebastian Iermito', 'Sebastien Cossin', 'Sebastien Feller', 'Sebastien Maze', 'Semen I Dvoirys', 'Semen Khanin', 'Semyon Lomasov', 'Sergei Azarov', 'Sergei Lobanov', 'Sergei Movsesian', 'Sergei Ovsejevitsch', 'Sergei Tiviakov', 'Sergei Yudin', 'Sergei Zablotsky', 'Sergei Zhigalko', 'Sergey A Fedorchuk', 'Sergey Erenburg', 'Sergey Grigoriants', 'Sergey Karjakin', 'Sergey Kasparov', 'Sergey Pavlov', 'Sergey Trushnikov', 'Sergey Volkov', 'Seyed Khalil Mousavi', 'Shahin Lorparizangeneh', 'Shamsiddin Vokhidov', 'Shant Sargsyan', 'Shardul Annasaheb Gagare', 'Shawn Rodrigue-Lemieux', 'Shay Porat', 'Shyaamnikhil P', 'Simen Agdestein', 'Simon Williams', 'Sipke Ernst', 'Slavko Cicak', 'Srinath Narayanan', 'Stamatis Kourkoulos-Arditis', 'Stefan Bromberger', 'Stelios Halkias', 'Stepan Zilka', 'Sumiya Bilguun', 'Sundar M Shyam', 'Sune Berg Hansen', 'Suri Vaibhav', 'Surya Shekhar Ganguly', 'Susanto Megaranto', 'Svyatoslav Bazakutsa', 'Szymon Gumularz', 'Szymon Gumularz', 'Tadeas Kriebel', 'Tagir Salemgareev', 'Tal Baron', 'Tamas Banusz', 'Tamas Jr Fodor', 'Tamaz Gelashvili', 'Tamir Nabaty', 'Tan Zhongyi', 'Tanguy Ringoir', 'Teimour Radjabov', 'Temur Kuybokarov', 'Thai Dai Van Nguyen', 'Thomas Beerdsen', 'Thomas Roussel-Roozmon', 'Tiberiu-Marian Georgescu', 'Tiger Hillarp Persson', 'Tigran Gharamian', 'Tigran K Harutyunian', 'Tigran K Harutyunian', 'Tigran L Petrosian', 'Tigran S Petrosyan', 'Timur Gareyev', 'Titas Stremavicius', 'Tobias Koelle', 'Toivo Keinanen', 'Tomas Kraus', 'Tomas Laurusas', 'Tomas Polak', 'Tomas Sosa', 'Tomasz Markowski', 'Tomasz Warakomski', 'Tomi Nyback', 'Toms Kantans', 'Tong Xiao', 'Tor Fredrik Kaasen', 'Tornike Sanikidse', 'Trajko Nedev', 'Tsegmed Batchuluun', 'Tsvetan Stoyanov', 'Tuan Minh Le', 'Tuan Minh Tran', 'Twan Burg', 'Ulf Andersson', 'Ulvi Sadikhov', 'Uwe Boensch', 'V Pranav', 'V S Rathanvel', 'Vadim Milov', 'Vadim Moiseenko', 'Vadim Zvjaginsev', 'Vahap Sanal', 'Vaishali R', 'Valentin Baidetskyi', 'Valentin Dragnev', 'Valeriy Aveskulov', 'Valery Kazakouski', 'Valery Sviridov', 'Varuzhan Akobian', 'Vasif Durarbayli', 'Vasil Spasov', 'Vasilios Kotronias', 'Vasyl Ivanchuk', 'Velimir Ivic', 'Veselin Topalov', 'Viacheslav Tilicheev', 'Viacheslav V Zakhartsov', 'Viatcheslav Ikonnikov', 'Victor Bologan', 'Victor Bologan', 'Victor Mikhalevski', 'Vidit Santosh Gujrathi', 'Vignesh N R', 'Vignir Vatnar Stefansson', 'Viktor Erdos', 'Viktor Gazik', 'Viktor Laznicka', 'Viktor Matviishen', 'Vincent Keymer', 'Viorel Iordachescu', 'Visakh N R', 'Viswanathan Anand', 'Vitali Golod', 'Vitaliy Bernadskiy', 'Vitaly Kunin', 'Vitaly Sivuk', 'Vlad-Cristian Jianu', 'Vladimir Akopian', 'Vladimir Baklan', 'Vladimir Belous', 'Vladimir Burmakin', 'Vladimir Dobrov', 'Vladimir Fedoseev', 'Vladimir Hamitevici', 'Vladimir Lazarev', 'Vladimir Malakhov', 'Vladimir Onischuk', 'Vladimir Potkin', 'Vladimir Zakhartsov', 'Vladislav Artemiev', 'Vladislav Bakhmatsky', 'Vladislav Kovalev', 'Vladislav Nozdrachev', 'Vladyslav Larkin', 'Vlastimil Babula', 'Vojtech Plat', 'Vojtech Zwardon', 'Volodar Murzin', 'Volodymyr Vetoshko', 'Vugar Asadli', 'Vugar Rasulov', 'Wan Yunguo', 'Wang Chen', 'Wang Hao', 'Wang Yue', 'Wei Yi', 'Wen Yang', 'Wesley So', 'William Hernandez Gonzalez', 'William N Watson', 'Wojciech Moranda', 'Wouter Spoelman', 'Xianliang Xu', 'Xiongjian Peng', 'Xiu Deshun', 'Xu Jun', 'Xu Xiangyu', 'Xu Yi', 'Xu Yinglun', 'Yagiz Kaan Erdogmus', 'Yago De Moura Santiago', 'Yahli Sokolovsky', 'Yair Parkhov', 'Yan Liu', 'Yannick Pelletier', 'Yaroslav Zherebukh', 'Yasser Quesada Perez', 'Yeoh Li Tian', 'Yevgeniy Roshka', 'Yevgeny A Levin', 'Youri Solodovnitchenko', 'Yu Ruiyuan', 'Yu Shaoteng', 'Yu Yangyi', 'Yuri Kruppa', 'Yuri Vovk', 'Yuri Yakovich', 'Yuriy Baikovsky', 'Yuriy Kryvoruchko', 'Yuriy Kuzubov', 'Yusnel Bacallao Alonso', 'Zahar Efimenko', 'Zaven Andriasian', 'Zbigniew Pakleza', 'Zbynek Hracek', 'Zdenko Kozul', 'Zdenko Kozul', 'Zeng Chongsheng', 'Zenon Franco Ocampos', 'Zhamsaran Tsydypov', 'Zhamsaran Tsydypov', 'Zhandos Agmanov', 'Zhang Pengxiang', 'Zhansaya Abdumalik', 'Zhao Jun', 'Zhao Xue', 'Zhao Yuanhe', 'Zhao Zong-Yuan', 'Zhihang Xu', 'Zhou Jianchao', 'Zhou Weiqi', \"Zhu Jin'er\", 'Zoltan Medvegy', 'Zoltan Ribli', 'Zoran Jovanovic', 'Zurab Sturua']\n"
     ]
    }
   ],
   "source": [
    "csv_data=pd.read_csv(\"sample_datasets/top_chess_players.csv\",usecols=[1]) # usecols must have only 1 col\n",
    "ps=csv_data.squeeze() # use squeeze method to convert Dataframe to Series!\n",
    "#print(dir(csv_data))\n",
    "print(\"Total no of records\",len(ps))\n",
    "#print(\"min of records\",min(ps))\n",
    "#print(\"min of records\",max(ps))\n",
    "#print(list(ps))\n",
    "#print(dict(ps))\n",
    "print(sorted(ps))"
   ]
  },
  {
   "cell_type": "code",
   "execution_count": 61,
   "id": "dc47728f-ef5e-47c6-816a-50bd0057b79a",
   "metadata": {},
   "outputs": [
    {
     "name": "stdout",
     "output_type": "stream",
     "text": [
      "57      Ñengo Flow\n",
      "161    Álvaro Díaz\n",
      "93          thasup\n",
      "106         j‐hope\n",
      "255      iann dior\n",
      "          ...     \n",
      "195     A$AP Rocky\n",
      "2          50 Cent\n",
      "264         4*TOWN\n",
      "197       24kGoldn\n",
      "117      21 Savage\n",
      "Name: artist, Length: 307, dtype: object\n"
     ]
    }
   ],
   "source": [
    "csv_data=pd.read_csv(\"sample_datasets/artists.csv\",usecols=[0]) # usecols must have only 1 col\n",
    "ps=csv_data.squeeze()\n",
    "#print(ps)\n",
    "#print(304 in ps) # search happens on index by default!\n",
    "#print(1000 in ps.index)\n",
    "#print('50 Cent' in ps.values)\n",
    "#print(ps.sort_index(ascending=False))\n",
    "ps=ps.sort_values() # always create new object at new memory location!\n",
    "ps.sort_values(ascending=False,inplace=True)\n",
    "print(ps)"
   ]
  },
  {
   "cell_type": "code",
   "execution_count": 75,
   "id": "a0bd7a27-1ff3-463e-ac94-35c5edfcf8a8",
   "metadata": {},
   "outputs": [
    {
     "name": "stdout",
     "output_type": "stream",
     "text": [
      "<class 'pandas.core.series.Series'>\n",
      "306    Steve Lacy\n",
      "Name: artist, dtype: object\n",
      "306    Steve Lacy\n",
      "Name: artist, dtype: object\n",
      "10       Cris Mj\n",
      "20     Zé Felipe\n",
      "30    Juice WRLD\n",
      "Name: artist, dtype: object\n"
     ]
    }
   ],
   "source": [
    "csv_data=pd.read_csv(\"sample_datasets/artists.csv\",usecols=[0]) # usecols must have only 1 col\n",
    "ps=csv_data.squeeze()\n",
    "print(type(ps))\n",
    "\"\"\"\n",
    "print(ps[0])\n",
    "print(ps[0:2])\n",
    "print(ps[0:11:2])\n",
    "print(ps[-2:-10:-1])\n",
    "print(ps[-10:-5:1])\n",
    "\"\"\"\n",
    "#print(ps[::-1])\n",
    "print(ps[-1:])\n",
    "print(ps.tail(n=1))\n",
    "print(ps[[10,20,30]])"
   ]
  },
  {
   "cell_type": "code",
   "execution_count": 86,
   "id": "e5f8aecf-db41-41e5-b967-d3b8ab6c7a20",
   "metadata": {},
   "outputs": [
    {
     "name": "stdout",
     "output_type": "stream",
     "text": [
      "0    sun\n",
      "1    mon\n",
      "2    tue\n",
      "3    wed\n",
      "4    thu\n",
      "5    fri\n",
      "6    sat\n",
      "Name: Day, dtype: object\n",
      "Index is not present please check!\n",
      "Exception has occured!\n",
      "None\n"
     ]
    }
   ],
   "source": [
    "csv_data=pd.read_csv(\"sample_datasets/daysweek.csv\",usecols=[0]) # usecols must have only 1 col\n",
    "ps=csv_data.squeeze()\n",
    "print(ps)\n",
    "print(ps.get(1000,default=\"Index is not present please check!\"))\n",
    "try:\n",
    "    print(ps[1000])\n",
    "except:\n",
    "    print(\"Exception has occured!\")\n",
    "print(ps.get([\"sun\"]))"
   ]
  },
  {
   "cell_type": "code",
   "execution_count": 99,
   "id": "c4086d9e-5c37-4650-9a9c-b0fd522562e9",
   "metadata": {},
   "outputs": [
    {
     "name": "stdout",
     "output_type": "stream",
     "text": [
      "0     superb!\n",
      "1     superb!\n",
      "2     superb!\n",
      "3          ok\n",
      "4     superb!\n",
      "5     superb!\n",
      "6          ok\n",
      "7          ok\n",
      "8          ok\n",
      "9          ok\n",
      "10    superb!\n",
      "11    superb!\n",
      "Name: 100, dtype: object\n"
     ]
    }
   ],
   "source": [
    "def check_fun(no):\n",
    "    if no>=50:\n",
    "        return \"superb!\"\n",
    "    elif no >=0 and no<50:\n",
    "        return \"ok\"\n",
    "    else:\n",
    "        return \"please check\"\n",
    "\n",
    "ps=pd.read_csv(\"sample_datasets/numbers.csv\")\n",
    "csv_file=ps.squeeze()\n",
    "#print(csv_file)\n",
    "#csv_file=csv_file.apply(lambda no:no*no)\n",
    "csv_file=csv_file.apply(check_fun)\n",
    "print(csv_file)"
   ]
  },
  {
   "cell_type": "code",
   "execution_count": 108,
   "id": "38034d85-5777-4412-ba11-ef41cb0c4608",
   "metadata": {},
   "outputs": [
    {
     "name": "stdout",
     "output_type": "stream",
     "text": [
      "0     sachin\n",
      "1      dhoni\n",
      "2     ashwin\n",
      "3    klrahul\n",
      "4      warne\n",
      "5      virat\n",
      "6        abd\n",
      "7      gayle\n",
      "Name: player, dtype: object\n",
      "player\n",
      "sachin           india\n",
      "dhoni            india\n",
      "ashwin           india\n",
      "klrahul          india\n",
      "warne        australia\n",
      "virat            india\n",
      "abd        southafrica\n",
      "gayle       westindies\n",
      "murli         srilanka\n",
      "watson       australia\n",
      "cummins      australia\n",
      "dekock     southafrica\n",
      "Name: country, dtype: object\n",
      "player\n",
      "sachin     NaN\n",
      "dhoni      NaN\n",
      "ashwin     NaN\n",
      "klrahul    NaN\n",
      "warne      NaN\n",
      "virat      NaN\n",
      "abd        NaN\n",
      "gayle      NaN\n",
      "murli      NaN\n",
      "watson     NaN\n",
      "cummins    NaN\n",
      "dekock     NaN\n",
      "Name: country, dtype: object\n"
     ]
    }
   ],
   "source": [
    "players=pd.read_csv(\"sample_datasets/players.csv\",usecols=[1])\n",
    "players=players.squeeze()\n",
    "print(players)\n",
    "country=pd.read_csv(\"sample_datasets/country.csv\",index_col=[0])\n",
    "country=country.squeeze()\n",
    "print(country)\n",
    "print(players.map(country))"
   ]
  },
  {
   "cell_type": "code",
   "execution_count": 121,
   "id": "79be4f2b-6f86-47d0-888f-eadf50778290",
   "metadata": {},
   "outputs": [
    {
     "name": "stdout",
     "output_type": "stream",
     "text": [
      "   col1  col2  col3  col 4\n",
      "0     1     2     3      4\n",
      "1     2     3     4      5\n",
      "2     3     4     5      6\n",
      "3     4     5     6      7\n",
      "4     5     6     7      8\n",
      "0    1\n",
      "1    2\n",
      "2    3\n",
      "3    4\n",
      "4    5\n",
      "Name: col1, dtype: int64\n",
      "0    1\n",
      "1    2\n",
      "2    3\n",
      "3    4\n",
      "4    5\n",
      "Name: col1, dtype: int64\n",
      "0    4\n",
      "1    5\n",
      "2    6\n",
      "3    7\n",
      "4    8\n",
      "Name: col 4, dtype: int64\n"
     ]
    }
   ],
   "source": [
    "t20=pd.read_csv(\"sample_datasets/numeric_cols.csv\")\n",
    "print(t20)\n",
    "#print(t20.sum())\n",
    "#print(t20.sum(axis=0))\n",
    "#print(t20.sum(axis='index'))\n",
    "#print(t20.sum(axis=1))\n",
    "#print(t20.sum(axis='columns'))\n",
    "print(t20.col1) # use attributes when there is no space in column name!\n",
    "print(t20['col1'])\n",
    "print(t20['col 4'])"
   ]
  },
  {
   "cell_type": "code",
   "execution_count": 143,
   "id": "48cd9d51-6781-43ae-9709-d11852180680",
   "metadata": {},
   "outputs": [
    {
     "name": "stdout",
     "output_type": "stream",
     "text": [
      "   col1  col2  col3  col 4\n",
      "0     1     2     3      4\n",
      "1     2     3     4      5\n",
      "2     3     4     5      6\n",
      "3     4     5     6      7\n",
      "4     5     6     7      8\n",
      "   col1  col2  col3  col 4\n",
      "0    12    13    14     15\n",
      "1    13    14    15     16\n",
      "2    14    15    16     17\n",
      "3    15    16    17     18\n",
      "4    16    17    18     19\n",
      "   col1  col2  col3  col 4  Adding10\n",
      "0     1     2     3      4        11\n",
      "1     2     3     4      5        12\n",
      "2     3     4     5      6        13\n",
      "3     4     5     6      7        14\n",
      "4     5     6     7      8        15\n"
     ]
    }
   ],
   "source": [
    "t20=pd.read_csv(\"sample_datasets/numeric_cols.csv\")\n",
    "\"\"\"\n",
    "print(t20['col1'].add(10))\n",
    "print(t20['col1']+10)\n",
    "print(t20['col2'].sub(10))\n",
    "print(t20['col2']-10)\n",
    "print(t20['col3'].mul(10))\n",
    "print(t20['col3']*10)\n",
    "print(t20['col 4'].mul(10))\n",
    "print(t20['col 4']*10)\n",
    "\"\"\"\n",
    "print(t20)\n",
    "print(t20.add(11))\n",
    "newps=t20['col1'].add(10)\n",
    "t20.insert(4,column=\"Adding10\",value=newps)\n",
    "print(t20)"
   ]
  },
  {
   "cell_type": "code",
   "execution_count": 147,
   "id": "3db8f2ba-cb24-403c-89a5-fb5a37adf9db",
   "metadata": {},
   "outputs": [
    {
     "name": "stdout",
     "output_type": "stream",
     "text": [
      "                   branch   category                          place\n",
      "0  MECHANICAL ENGINEERING        1 3                       Shillong\n",
      "1                CSE CORE        NaN                          Bihar\n",
      "2                Cse core          2               Gurgaon, haryana\n",
      "3                 CS core        NaN                            NaN\n",
      "4                 CS Core  3 1 3 1 3                        Gurgaon\n",
      "5    Cse specialtions iot        NaN            Gurgaon Maharashtra\n",
      "6                CSE CORE  1 1 2 2 2                          Bihar\n",
      "7          Cse blockchain        NaN                       Banglore\n",
      "8                CSE Core        3 3  Jalgaon, Maharashtra Shillong\n",
      "9             Electronics         55                            NaN\n",
      "                   branch   category                          place\n",
      "0  MECHANICAL ENGINEERING        1 3                       Shillong\n",
      "2                Cse core          2               Gurgaon, haryana\n",
      "4                 CS Core  3 1 3 1 3                        Gurgaon\n",
      "6                CSE CORE  1 1 2 2 2                          Bihar\n",
      "8                CSE Core        3 3  Jalgaon, Maharashtra Shillong\n"
     ]
    }
   ],
   "source": [
    "csv_data=pd.read_csv(\"sample_datasets/check_null.csv\")\n",
    "print(csv_data)\n",
    "print(csv_data.dropna())\n",
    "#print(csv_data)"
   ]
  },
  {
   "cell_type": "code",
   "execution_count": null,
   "id": "7aa70de7-7d40-425d-8395-d661e6bfd699",
   "metadata": {},
   "outputs": [],
   "source": []
  }
 ],
 "metadata": {
  "kernelspec": {
   "display_name": "Python 3 (ipykernel)",
   "language": "python",
   "name": "python3"
  },
  "language_info": {
   "codemirror_mode": {
    "name": "ipython",
    "version": 3
   },
   "file_extension": ".py",
   "mimetype": "text/x-python",
   "name": "python",
   "nbconvert_exporter": "python",
   "pygments_lexer": "ipython3",
   "version": "3.11.5"
  }
 },
 "nbformat": 4,
 "nbformat_minor": 5
}
